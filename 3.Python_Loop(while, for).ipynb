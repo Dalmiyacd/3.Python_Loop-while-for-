{
 "cells": [
  {
   "cell_type": "markdown",
   "metadata": {},
   "source": [
    "## While Loop ##"
   ]
  },
  {
   "cell_type": "code",
   "execution_count": 1,
   "metadata": {},
   "outputs": [],
   "source": [
    "# program to write 'hello' 3 time"
   ]
  },
  {
   "cell_type": "code",
   "execution_count": 2,
   "metadata": {},
   "outputs": [
    {
     "name": "stdout",
     "output_type": "stream",
     "text": [
      "Hello\n",
      "Hello\n",
      "Hello\n",
      "Hello\n",
      "Hello\n",
      "Completed Loop\n"
     ]
    }
   ],
   "source": [
    "cnt = 0\n",
    "while cnt<5:\n",
    "    print('Hello')\n",
    "    cnt = cnt+1\n",
    "\n",
    "print('Completed Loop')"
   ]
  },
  {
   "cell_type": "markdown",
   "metadata": {},
   "source": [
    "### break ###"
   ]
  },
  {
   "cell_type": "code",
   "execution_count": 3,
   "metadata": {},
   "outputs": [
    {
     "name": "stdout",
     "output_type": "stream",
     "text": [
      "Hello 1\n",
      "Hello 2\n",
      "Hello 3\n",
      "Outside the loop\n"
     ]
    }
   ],
   "source": [
    "cnt = 1\n",
    "while cnt<5:\n",
    "    print('Hello', cnt)\n",
    "    if cnt % 3 == 0:\n",
    "        break;\n",
    "    cnt = cnt+1\n",
    "\n",
    "print('Outside the loop')"
   ]
  },
  {
   "cell_type": "code",
   "execution_count": null,
   "metadata": {},
   "outputs": [],
   "source": []
  },
  {
   "cell_type": "code",
   "execution_count": null,
   "metadata": {},
   "outputs": [],
   "source": []
  },
  {
   "cell_type": "markdown",
   "metadata": {},
   "source": [
    "### Continue (skip one loop) ###"
   ]
  },
  {
   "cell_type": "code",
   "execution_count": 4,
   "metadata": {},
   "outputs": [],
   "source": [
    "# print even numbers from 1 to 15"
   ]
  },
  {
   "cell_type": "code",
   "execution_count": 5,
   "metadata": {},
   "outputs": [
    {
     "name": "stdout",
     "output_type": "stream",
     "text": [
      "hello 2\n",
      "hello 4\n",
      "hello 6\n",
      "hello 8\n",
      "hello 10\n",
      "hello 12\n",
      "hello 14\n",
      "Outside the loop\n"
     ]
    }
   ],
   "source": [
    "cnt = 1\n",
    "while cnt<15:\n",
    "    cnt = cnt + 1 \n",
    "    if cnt % 2 != 0:\n",
    "        continue;\n",
    "    print('hello', cnt)\n",
    "print('Outside the loop')"
   ]
  },
  {
   "cell_type": "code",
   "execution_count": null,
   "metadata": {},
   "outputs": [],
   "source": []
  },
  {
   "cell_type": "markdown",
   "metadata": {},
   "source": [
    "### else clause ###"
   ]
  },
  {
   "cell_type": "code",
   "execution_count": 6,
   "metadata": {},
   "outputs": [],
   "source": [
    "# print a number divisible by 7"
   ]
  },
  {
   "cell_type": "code",
   "execution_count": 7,
   "metadata": {},
   "outputs": [
    {
     "name": "stdout",
     "output_type": "stream",
     "text": [
      "hello 1\n",
      "hello 2\n",
      "hello 3\n",
      "hello 4\n",
      "outside loop\n"
     ]
    }
   ],
   "source": [
    "cnt = 1; \n",
    "#in this case_number from 1 to 5 which cannot be divisble by 7\n",
    "while cnt < 5 :\n",
    "    print('hello', cnt)\n",
    "    if cnt % 7 == 0:\n",
    "        break;\n",
    "    cnt = cnt+1\n",
    "\n",
    "print('outside loop')"
   ]
  },
  {
   "cell_type": "code",
   "execution_count": 8,
   "metadata": {},
   "outputs": [
    {
     "name": "stdout",
     "output_type": "stream",
     "text": [
      "hello 1\n",
      "hello 2\n",
      "hello 3\n",
      "hello 4\n",
      "hello 5\n",
      "hello 6\n",
      "hello 7\n",
      "outside loop\n"
     ]
    }
   ],
   "source": [
    "cnt = 1; \n",
    "#in this case_number from 1 to 9 which can be divisble by 7\n",
    "while cnt < 9  :\n",
    "    print('hello', cnt)\n",
    "    if cnt % 7 == 0:\n",
    "        break;\n",
    "    cnt = cnt+1\n",
    "\n",
    "print('outside loop')"
   ]
  },
  {
   "cell_type": "code",
   "execution_count": 9,
   "metadata": {},
   "outputs": [],
   "source": [
    "## in both the above cases it is not possible to distinguish, so in such cases we use 'else cause'"
   ]
  },
  {
   "cell_type": "code",
   "execution_count": null,
   "metadata": {},
   "outputs": [],
   "source": []
  },
  {
   "cell_type": "code",
   "execution_count": 10,
   "metadata": {},
   "outputs": [
    {
     "name": "stdout",
     "output_type": "stream",
     "text": [
      "hello 1\n",
      "hello 2\n",
      "hello 3\n",
      "hello 4\n",
      "completed loop - no break\n",
      "outside loop\n"
     ]
    }
   ],
   "source": [
    "cnt = 1; \n",
    "#in this case_number from 1 to 5 which cannot be divisble by 7\n",
    "while cnt < 5 :\n",
    "    print('hello', cnt)\n",
    "    if cnt % 7 == 0:\n",
    "        break;\n",
    "    cnt = cnt+1\n",
    "else:\n",
    "    print('completed loop - no break')\n",
    "print('outside loop')"
   ]
  },
  {
   "cell_type": "code",
   "execution_count": null,
   "metadata": {},
   "outputs": [],
   "source": []
  },
  {
   "cell_type": "code",
   "execution_count": 11,
   "metadata": {},
   "outputs": [
    {
     "name": "stdout",
     "output_type": "stream",
     "text": [
      "hello 1\n",
      "hello 2\n",
      "hello 3\n",
      "hello 4\n",
      "hello 5\n",
      "hello 6\n",
      "hello 7\n",
      "outside loop\n"
     ]
    }
   ],
   "source": [
    "cnt = 1; \n",
    "#in this case_number from 1 to 9 which cannot be divisble by 7\n",
    "while cnt < 9 :\n",
    "    print('hello', cnt)\n",
    "    if cnt % 7 == 0:\n",
    "        break;\n",
    "    cnt = cnt+1\n",
    "else:\n",
    "    print('completed loop - no break')\n",
    "print('outside loop')"
   ]
  },
  {
   "cell_type": "code",
   "execution_count": null,
   "metadata": {},
   "outputs": [],
   "source": []
  },
  {
   "cell_type": "code",
   "execution_count": 12,
   "metadata": {},
   "outputs": [],
   "source": [
    "# print a number which is divisible by 7 within 5 tries.."
   ]
  },
  {
   "cell_type": "code",
   "execution_count": 13,
   "metadata": {},
   "outputs": [
    {
     "name": "stdout",
     "output_type": "stream",
     "text": [
      "Enter the number: 25\n",
      "Enter the number: 3\n",
      "Enter the number: 45\n",
      "Enter the number: 7\n",
      "Got it!\n",
      "outside loop\n"
     ]
    }
   ],
   "source": [
    "cnt = 0; \n",
    "while cnt<5 :\n",
    "    num = int(input('Enter the number: '))\n",
    "    if num % 7 == 0:\n",
    "        print('Got it!')\n",
    "        break;\n",
    "    cnt = cnt+1\n",
    "else:\n",
    "    print('Sorry! No more tries')\n",
    "print('outside loop')"
   ]
  }
 ],
 "metadata": {
  "kernelspec": {
   "display_name": "Python 3",
   "language": "python",
   "name": "python3"
  },
  "language_info": {
   "codemirror_mode": {
    "name": "ipython",
    "version": 3
   },
   "file_extension": ".py",
   "mimetype": "text/x-python",
   "name": "python",
   "nbconvert_exporter": "python",
   "pygments_lexer": "ipython3",
   "version": "3.8.8"
  }
 },
 "nbformat": 4,
 "nbformat_minor": 4
}
